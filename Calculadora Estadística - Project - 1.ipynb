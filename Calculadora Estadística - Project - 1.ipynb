{
 "cells": [
  {
   "cell_type": "markdown",
   "id": "4fb0a08d-c266-4339-b7be-5faa721c1b2f",
   "metadata": {},
   "source": [
    "## __Calculadora Estadística - Projecto # 1__"
   ]
  },
  {
   "cell_type": "markdown",
   "id": "717cabfb-2af3-4fe0-b157-e4819c8dc0b0",
   "metadata": {},
   "source": [
    "#### __Autor:__ Angel Daniel Rodriguez Santos"
   ]
  },
  {
   "cell_type": "markdown",
   "id": "a1b0ebc3-c046-4d8c-9899-7dc4886ec905",
   "metadata": {},
   "source": [
    "----------"
   ]
  },
  {
   "cell_type": "markdown",
   "id": "3b3cfe30-bc8b-44da-8170-b26c4f5121d6",
   "metadata": {},
   "source": [
    "Para iniciar, vamos a importar la librería __NumPy__."
   ]
  },
  {
   "cell_type": "code",
   "execution_count": 1,
   "id": "da3562d5-0b56-4973-92a2-7c13e5407913",
   "metadata": {},
   "outputs": [],
   "source": [
    "import numpy as np"
   ]
  },
  {
   "cell_type": "markdown",
   "id": "23e2b6d9-b18d-49e3-aee1-9b707891869c",
   "metadata": {},
   "source": [
    "Ahora, creamos la lista con los valores:"
   ]
  },
  {
   "cell_type": "code",
   "execution_count": 2,
   "id": "1c453483-1bdf-45a2-a593-17c0807519a6",
   "metadata": {},
   "outputs": [],
   "source": [
    "lista = [0, 1, 2, 3, 4, 5, 6, 7, 8]"
   ]
  },
  {
   "cell_type": "markdown",
   "id": "c43d0508-a6ba-4e9b-a966-809b50a3591e",
   "metadata": {},
   "source": [
    "Y para terminar, creamos la función (__calculate()__) con todos los parámetros correspondientes."
   ]
  },
  {
   "cell_type": "code",
   "execution_count": 3,
   "id": "79a0c1fa-f3ca-4e8c-bceb-4479e476ede9",
   "metadata": {},
   "outputs": [],
   "source": [
    "def calculate(list):\n",
    "    \n",
    "    # - Excepción -\n",
    "    try:\n",
    "        \n",
    "        # - Trasformación de la lista (matriz 3x3) -\n",
    "        list = np.array(list).reshape((3, 3))\n",
    "        \n",
    "        # - Diccionario -\n",
    "        resultados = {}\n",
    "        \n",
    "        # - PROMEDIO -\n",
    "        resultados[\"Promedio\"] = [np.mean(list, axis = 0).tolist(),\n",
    "                                  np.mean(list, axis = 1).tolist(),\n",
    "                                  np.mean(list)]\n",
    "        \n",
    "        # - VARIANZA -\n",
    "        resultados[\"Varianza\"] = [[], [], round(np.var(list), 2)]\n",
    "        \n",
    "        varianza = [np.var(list, axis = 0).tolist(),\n",
    "                    np.var(list, axis = 1).tolist()]\n",
    "        # - Para redondear la varianza -\n",
    "        for i in zip(varianza[0], varianza[1]):\n",
    "            \n",
    "            resultados[\"Varianza\"][0].append(round(i[0], 2))\n",
    "            resultados[\"Varianza\"][1].append(round(i[1], 2))\n",
    "            \n",
    "        # - DESVIACIÓN ESTÁNDAR -\n",
    "        resultados[\"Desviación Estándar\"] = [[], [], round(np.std(list), 2)]\n",
    "        \n",
    "        desviacion = [np.std(list, axis = 0).tolist(),\n",
    "                      np.std(list, axis = 1).tolist()]\n",
    "        # - Para redondear la desviación estándar -\n",
    "        for i in zip(desviacion[0], desviacion[1]):\n",
    "            \n",
    "            resultados[\"Desviación Estándar\"][0].append(round(i[0], 2))\n",
    "            resultados[\"Desviación Estándar\"][1].append(round(i[1], 2))\n",
    "            \n",
    "        # - MÁXIMO -\n",
    "        resultados[\"Máximo\"] = [np.max(list, axis = 0).tolist(),\n",
    "                                np.max(list, axis = 1).tolist(),\n",
    "                                np.max(list)]\n",
    "        \n",
    "        # - MÍNIMO -\n",
    "        resultados[\"Mínimo\"] = [np.min(list, axis = 0).tolist(),\n",
    "                                np.min(list, axis = 1).tolist(),\n",
    "                                np.min(list)]\n",
    "        \n",
    "        # - SUMA -\n",
    "        resultados[\"Suma\"] = [np.sum(list, axis = 0).tolist(),\n",
    "                              np.sum(list, axis = 1).tolist(),\n",
    "                              np.sum(list)]\n",
    "        \n",
    "        #for result, values in resultados.items():\n",
    "            #print(\"->\", result, values)\n",
    "    \n",
    "        return resultados\n",
    "        \n",
    "    except ValueError as e:\n",
    "        print(\"ERROR: La lista debe contener nueve números.\", e)"
   ]
  },
  {
   "cell_type": "code",
   "execution_count": 4,
   "id": "61a37854-207f-444f-b510-075507837141",
   "metadata": {},
   "outputs": [
    {
     "data": {
      "text/plain": [
       "{'Promedio': [[3.0, 4.0, 5.0], [1.0, 4.0, 7.0], 4.0],\n",
       " 'Varianza': [[6.0, 6.0, 6.0], [0.67, 0.67, 0.67], 6.67],\n",
       " 'Desviación Estándar': [[2.45, 2.45, 2.45], [0.82, 0.82, 0.82], 2.58],\n",
       " 'Máximo': [[6, 7, 8], [2, 5, 8], 8],\n",
       " 'Mínimo': [[0, 1, 2], [0, 3, 6], 0],\n",
       " 'Suma': [[9, 12, 15], [3, 12, 21], 36]}"
      ]
     },
     "execution_count": 4,
     "metadata": {},
     "output_type": "execute_result"
    }
   ],
   "source": [
    "calculate(lista)"
   ]
  },
  {
   "cell_type": "code",
   "execution_count": null,
   "id": "63f7ce5d-eb1c-46c9-91f7-d787ea0ada55",
   "metadata": {},
   "outputs": [],
   "source": []
  },
  {
   "cell_type": "code",
   "execution_count": null,
   "id": "61063caa-5455-4b64-a2e0-cd58d6ce1623",
   "metadata": {},
   "outputs": [],
   "source": []
  }
 ],
 "metadata": {
  "kernelspec": {
   "display_name": "Python 3 (ipykernel)",
   "language": "python",
   "name": "python3"
  },
  "language_info": {
   "codemirror_mode": {
    "name": "ipython",
    "version": 3
   },
   "file_extension": ".py",
   "mimetype": "text/x-python",
   "name": "python",
   "nbconvert_exporter": "python",
   "pygments_lexer": "ipython3",
   "version": "3.12.4"
  }
 },
 "nbformat": 4,
 "nbformat_minor": 5
}
